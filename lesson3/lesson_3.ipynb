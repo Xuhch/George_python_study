{
 "cells": [
  {
   "cell_type": "code",
   "execution_count": 9,
   "metadata": {},
   "outputs": [
    {
     "name": "stdout",
     "output_type": "stream",
     "text": [
      "67.76g = 135.52kg\n"
     ]
    }
   ],
   "source": [
    "kg_China = float(input(\"please input gram:\"))\n",
    "kg = kg_China / 0.5\n",
    "# print(str(kg_China) + \"g=\" + str(kg) + \"kg\")\n",
    "print(f'{kg_China}g = {kg}kg') # 字串插补\n"
   ]
  }
 ],
 "metadata": {
  "kernelspec": {
   "display_name": "Python 3",
   "language": "python",
   "name": "python3"
  },
  "language_info": {
   "codemirror_mode": {
    "name": "ipython",
    "version": 3
   },
   "file_extension": ".py",
   "mimetype": "text/x-python",
   "name": "python",
   "nbconvert_exporter": "python",
   "pygments_lexer": "ipython3",
   "version": "3.11.9"
  }
 },
 "nbformat": 4,
 "nbformat_minor": 2
}
